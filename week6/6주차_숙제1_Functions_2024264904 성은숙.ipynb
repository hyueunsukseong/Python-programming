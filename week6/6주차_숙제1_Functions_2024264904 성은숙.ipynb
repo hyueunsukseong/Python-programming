{
  "nbformat": 4,
  "nbformat_minor": 0,
  "metadata": {
    "kernelspec": {
      "display_name": "Python 3",
      "language": "python",
      "name": "python3"
    },
    "language_info": {
      "codemirror_mode": {
        "name": "ipython",
        "version": 3
      },
      "file_extension": ".py",
      "mimetype": "text/x-python",
      "name": "python",
      "nbconvert_exporter": "python",
      "pygments_lexer": "ipython3",
      "version": "3.6.8"
    },
    "colab": {
      "provenance": []
    }
  },
  "cells": [
    {
      "cell_type": "markdown",
      "metadata": {
        "id": "2jwi-AriOsMR"
      },
      "source": [
        "<h1>Functions in Python</h1>"
      ]
    },
    {
      "cell_type": "markdown",
      "metadata": {
        "id": "1PzxrTdLOsMR"
      },
      "source": [
        "<p><strong>Welcome!</strong> This notebook will teach you about the functions in the Python Programming Language. By the end of this lab, you'll know the basic concepts about function, variables, and how to use functions.</p>"
      ]
    },
    {
      "cell_type": "markdown",
      "metadata": {
        "id": "imcvS4B2OsMU"
      },
      "source": [
        "<h2 id=\"func\">Functions</h2>"
      ]
    },
    {
      "cell_type": "markdown",
      "metadata": {
        "id": "VgclqAv4OsMU"
      },
      "source": [
        "A function is a reusable block of code which performs operations specified in the function.  They let you break down tasks and allow you to reuse your code in different programs.\n",
        "\n",
        "There are two types of functions :\n",
        "\n",
        "- <b>Pre-defined functions</b>\n",
        "- <b>User defined functions</b>"
      ]
    },
    {
      "cell_type": "markdown",
      "metadata": {
        "id": "Q5up5hqfOsMV"
      },
      "source": [
        "<h3 id=\"content\">What is a Function?</h3>"
      ]
    },
    {
      "cell_type": "markdown",
      "metadata": {
        "id": "AscpS-ckOsMW"
      },
      "source": [
        "You can define functions to provide the required functionality. Here are simple rules to define a function in Python:\n",
        "-  Functions blocks begin <code>def</code> followed by the function <code>name</code> and parentheses <code>()</code>.\n",
        "-  There are input parameters or arguments that should be placed within these parentheses.\n",
        "-  You can also define parameters inside these parentheses.\n",
        "-  There is a body within every function that starts with a colon (<code>:</code>) and is indented.\n",
        "-  You can also place documentation before the body\n",
        "-  The statement <code>return</code> exits a function, optionally passing back a value\n",
        "\n",
        "An example of a function that adds on to the parameter <code>a</code> prints and returns the output as <code>b</code>:"
      ]
    },
    {
      "cell_type": "code",
      "metadata": {
        "id": "wFUcjYUZOsMW"
      },
      "source": [
        "# First function example: Add 1 to a and store as b\n",
        "\n",
        "def add(a):   #define\n",
        "    b = a + 1\n",
        "    print(a, \"if you add one\", b)\n",
        "    return(a, b) # y=x+1, (x,y)"
      ],
      "execution_count": 7,
      "outputs": []
    },
    {
      "cell_type": "markdown",
      "metadata": {
        "id": "yC7TSHibOsMa"
      },
      "source": [
        "The figure below illustrates the terminology:"
      ]
    },
    {
      "cell_type": "markdown",
      "metadata": {
        "id": "qs-u_NhQOsMa"
      },
      "source": [
        "<img src=\"https://s3-api.us-geo.objectstorage.softlayer.net/cf-courses-data/CognitiveClass/PY0101EN/Chapter%203/Images/FuncsDefinition.png\" width=\"500\" />"
      ]
    },
    {
      "cell_type": "code",
      "source": [
        "add(1) #함수를 부른 것임 (call functions)"
      ],
      "metadata": {
        "colab": {
          "base_uri": "https://localhost:8080/"
        },
        "id": "HQjv0dXdmAoQ",
        "outputId": "feda3950-a3be-4664-96ed-e5657ed1cb41"
      },
      "execution_count": 10,
      "outputs": [
        {
          "output_type": "stream",
          "name": "stdout",
          "text": [
            "1 if you add one 2\n"
          ]
        },
        {
          "output_type": "execute_result",
          "data": {
            "text/plain": [
              "(1, 2)"
            ]
          },
          "metadata": {},
          "execution_count": 10
        }
      ]
    },
    {
      "cell_type": "code",
      "source": [
        "return_value = add(2)\n",
        "return_value"
      ],
      "metadata": {
        "colab": {
          "base_uri": "https://localhost:8080/"
        },
        "id": "WSU1BElLmQQR",
        "outputId": "9c49bdf1-2bec-4d66-8c66-32c41ade79a9"
      },
      "execution_count": 23,
      "outputs": [
        {
          "output_type": "stream",
          "name": "stdout",
          "text": [
            "2 if you add one 3\n"
          ]
        },
        {
          "output_type": "execute_result",
          "data": {
            "text/plain": [
              "(2, 3)"
            ]
          },
          "metadata": {},
          "execution_count": 23
        }
      ]
    },
    {
      "cell_type": "markdown",
      "metadata": {
        "id": "__iP8GK_OsMb"
      },
      "source": [
        "We can obtain help about a function :"
      ]
    },
    {
      "cell_type": "code",
      "metadata": {
        "id": "AZ7XAdojOsMb",
        "colab": {
          "base_uri": "https://localhost:8080/"
        },
        "outputId": "220d71c2-a0ff-4644-8d01-6cdf317601a2"
      },
      "source": [
        "# Get a help on add function\n",
        "\n",
        "help(add)"
      ],
      "execution_count": 21,
      "outputs": [
        {
          "output_type": "stream",
          "name": "stdout",
          "text": [
            "Help on function add in module __main__:\n",
            "\n",
            "add(a)\n",
            "\n"
          ]
        }
      ]
    },
    {
      "cell_type": "markdown",
      "metadata": {
        "id": "PQsYzdZeOsMe"
      },
      "source": [
        "We can call the function:"
      ]
    },
    {
      "cell_type": "code",
      "metadata": {
        "id": "bdqelKQUOsMf",
        "colab": {
          "base_uri": "https://localhost:8080/"
        },
        "outputId": "1a170bf5-d747-4837-cea2-4552a1ece100"
      },
      "source": [
        "# Call the function add()\n",
        "\n",
        "add(10)"
      ],
      "execution_count": 24,
      "outputs": [
        {
          "output_type": "stream",
          "name": "stdout",
          "text": [
            "10 if you add one 11\n"
          ]
        },
        {
          "output_type": "execute_result",
          "data": {
            "text/plain": [
              "(10, 11)"
            ]
          },
          "metadata": {},
          "execution_count": 24
        }
      ]
    },
    {
      "cell_type": "markdown",
      "metadata": {
        "id": "oS0qCejKOsMi"
      },
      "source": [
        "If we call the function with a new input we get a new result:"
      ]
    },
    {
      "cell_type": "code",
      "metadata": {
        "id": "cOuBTXeBOsMi",
        "colab": {
          "base_uri": "https://localhost:8080/"
        },
        "outputId": "444ddb67-905e-466c-aa85-c2113da42727"
      },
      "source": [
        "# Call the function add()\n",
        "\n",
        "add(2)"
      ],
      "execution_count": null,
      "outputs": [
        {
          "output_type": "stream",
          "name": "stdout",
          "text": [
            "2 if you add one 3\n"
          ]
        },
        {
          "output_type": "execute_result",
          "data": {
            "text/plain": [
              "(2, 3)"
            ]
          },
          "metadata": {},
          "execution_count": 12
        }
      ]
    },
    {
      "cell_type": "markdown",
      "metadata": {
        "id": "I7UKUyxHOsMl"
      },
      "source": [
        "We can create different functions. For example, we can create a function that multiplies two numbers. The numbers will be represented by the variables <code>a</code> and <code>b</code>:"
      ]
    },
    {
      "cell_type": "code",
      "metadata": {
        "id": "bMPmJv0pOsMm"
      },
      "source": [
        "# Define a function for multiple two numbers\n",
        "\n",
        "def Mult(a, b):\n",
        "    c = a * b\n",
        "    return(c)"
      ],
      "execution_count": 33,
      "outputs": []
    },
    {
      "cell_type": "markdown",
      "metadata": {
        "id": "esmd2L9sOsMo"
      },
      "source": [
        "The same function can be used for different data types. For example, we can multiply two integers:\n"
      ]
    },
    {
      "cell_type": "code",
      "metadata": {
        "id": "dJKLyK9SOsMp",
        "colab": {
          "base_uri": "https://localhost:8080/"
        },
        "outputId": "24f84836-4f9f-4f62-89ef-f3dc9642bdd1"
      },
      "source": [
        "# Use mult() multiply two integers\n",
        "\n",
        "result_mult = Mult(2, 3)\n",
        "result_mult\n",
        "# type(result_mult)"
      ],
      "execution_count": 37,
      "outputs": [
        {
          "output_type": "execute_result",
          "data": {
            "text/plain": [
              "6"
            ]
          },
          "metadata": {},
          "execution_count": 37
        }
      ]
    },
    {
      "cell_type": "markdown",
      "metadata": {
        "id": "fGk56rDDOsMr"
      },
      "source": [
        " Two Floats:"
      ]
    },
    {
      "cell_type": "code",
      "metadata": {
        "id": "g0mFueWROsMs",
        "colab": {
          "base_uri": "https://localhost:8080/"
        },
        "outputId": "ee922f92-16ce-47bd-cda8-65dbcb98a8d9"
      },
      "source": [
        "# Use mult() multiply two floats\n",
        "\n",
        "Mult(10.0, 3.14)"
      ],
      "execution_count": 38,
      "outputs": [
        {
          "output_type": "execute_result",
          "data": {
            "text/plain": [
              "31.400000000000002"
            ]
          },
          "metadata": {},
          "execution_count": 38
        }
      ]
    },
    {
      "cell_type": "markdown",
      "metadata": {
        "id": "dvnH5BnTOsMu"
      },
      "source": [
        "We can even replicate a string by multiplying with an integer:"
      ]
    },
    {
      "cell_type": "code",
      "metadata": {
        "id": "OTpkvwewOsMv",
        "colab": {
          "base_uri": "https://localhost:8080/",
          "height": 35
        },
        "outputId": "e75f5fa4-ea56-4bb4-bab2-05a2521e7962"
      },
      "source": [
        "# Use mult() multiply two different type values together\n",
        "\n",
        "Mult(2, \"Michael Jackson \")"
      ],
      "execution_count": 39,
      "outputs": [
        {
          "output_type": "execute_result",
          "data": {
            "text/plain": [
              "'Michael Jackson Michael Jackson '"
            ],
            "application/vnd.google.colaboratory.intrinsic+json": {
              "type": "string"
            }
          },
          "metadata": {},
          "execution_count": 39
        }
      ]
    },
    {
      "cell_type": "markdown",
      "metadata": {
        "id": "hmHokHm2OsMy"
      },
      "source": [
        "<h3 id=\"var\">Variables (local = 지역, global = 전역)</h3>"
      ]
    },
    {
      "cell_type": "markdown",
      "metadata": {
        "id": "CPsksHKAOsMz"
      },
      "source": [
        "The input to a function is called a formal parameter.\n",
        "\n",
        "A variable that is declared inside a function is called a  local variable. The parameter only exists within the function (i.e. the point where the function starts and stops).  \n",
        "\n",
        "A variable that is declared outside a function definition is a global variable, and its value is accessible and modifiable throughout the program. We will discuss more about global variables at the end of this module.\n"
      ]
    },
    {
      "cell_type": "code",
      "metadata": {
        "id": "Pou8-3L9OsMz"
      },
      "source": [
        "# Function Definition\n",
        "\n",
        "def square(a):\n",
        "\n",
        "    # Local variable b\n",
        "    b = 1\n",
        "    c = a * a + b\n",
        "    print(a, \"if you square + 1\", c)\n",
        "    return(c)"
      ],
      "execution_count": 40,
      "outputs": []
    },
    {
      "cell_type": "markdown",
      "metadata": {
        "id": "sAEfAgb0OsM3"
      },
      "source": [
        "The labels are displayed in the figure:  "
      ]
    },
    {
      "cell_type": "markdown",
      "metadata": {
        "id": "xrWPh3OFOsM3"
      },
      "source": [
        "<img src=\"https://s3-api.us-geo.objectstorage.softlayer.net/cf-courses-data/CognitiveClass/PY0101EN/Chapter%203/Images/FuncsVar.png\" width=\"500\" />"
      ]
    },
    {
      "cell_type": "markdown",
      "metadata": {
        "id": "2vUqPuALOsM3"
      },
      "source": [
        "We can call the function  with an input of <b>3</b>:"
      ]
    },
    {
      "cell_type": "code",
      "metadata": {
        "id": "Gf4VTUSsOsM4",
        "colab": {
          "base_uri": "https://localhost:8080/"
        },
        "outputId": "420f38cc-236b-4c0a-9c96-36d825986951"
      },
      "source": [
        "# Initializes Global variable\n",
        "\n",
        "x = 3\n",
        "# Makes function call and return function a y\n",
        "y = square(x)\n",
        "y"
      ],
      "execution_count": 41,
      "outputs": [
        {
          "output_type": "stream",
          "name": "stdout",
          "text": [
            "3 if you square + 1 10\n"
          ]
        },
        {
          "output_type": "execute_result",
          "data": {
            "text/plain": [
              "10"
            ]
          },
          "metadata": {},
          "execution_count": 41
        }
      ]
    },
    {
      "cell_type": "code",
      "source": [
        "y"
      ],
      "metadata": {
        "colab": {
          "base_uri": "https://localhost:8080/"
        },
        "id": "LScX6Zmzt5gX",
        "outputId": "ed3db2cf-5fe3-4e8a-f2ee-957838139a2f"
      },
      "execution_count": 48,
      "outputs": [
        {
          "output_type": "execute_result",
          "data": {
            "text/plain": [
              "10"
            ]
          },
          "metadata": {},
          "execution_count": 48
        }
      ]
    },
    {
      "cell_type": "markdown",
      "metadata": {
        "id": "Ti7OEEvNOsM6"
      },
      "source": [
        " We can call the function  with an input of <b>2</b> in a different manner:"
      ]
    },
    {
      "cell_type": "code",
      "metadata": {
        "id": "FHjXbgjLOsM6",
        "colab": {
          "base_uri": "https://localhost:8080/"
        },
        "outputId": "2b352b63-e3f3-447b-e112-76af893e5b10"
      },
      "source": [
        "# Directly enter a number as parameter\n",
        "\n",
        "square(2)"
      ],
      "execution_count": 49,
      "outputs": [
        {
          "output_type": "stream",
          "name": "stdout",
          "text": [
            "2 if you square + 1 5\n"
          ]
        },
        {
          "output_type": "execute_result",
          "data": {
            "text/plain": [
              "5"
            ]
          },
          "metadata": {},
          "execution_count": 49
        }
      ]
    },
    {
      "cell_type": "markdown",
      "metadata": {
        "id": "biqVXG13OsM8"
      },
      "source": [
        "If there is no <code>return</code> statement, the function returns <code>None</code>. The following two functions are equivalent:"
      ]
    },
    {
      "cell_type": "code",
      "metadata": {
        "id": "YeVhsCF9OsM9"
      },
      "source": [
        "# Define functions, one with return value None and other without return value\n",
        "\n",
        "def MJ():\n",
        "    print('Michael Jackson')\n",
        "\n",
        "def MJ1():\n",
        "    print('Michael Jackson')\n",
        "    return(None)"
      ],
      "execution_count": 51,
      "outputs": []
    },
    {
      "cell_type": "code",
      "metadata": {
        "id": "Mq2bEFz2OsM_",
        "colab": {
          "base_uri": "https://localhost:8080/"
        },
        "outputId": "9a93f8e4-8711-4306-ee44-2bfc6cc6ea37"
      },
      "source": [
        "# See the output\n",
        "\n",
        "MJ()"
      ],
      "execution_count": 52,
      "outputs": [
        {
          "output_type": "stream",
          "name": "stdout",
          "text": [
            "Michael Jackson\n"
          ]
        }
      ]
    },
    {
      "cell_type": "code",
      "metadata": {
        "id": "irqGhKlaOsNB",
        "colab": {
          "base_uri": "https://localhost:8080/"
        },
        "outputId": "aeb82c4b-0965-4fc5-c939-ac8ae8026b8d"
      },
      "source": [
        "# See the output\n",
        "\n",
        "MJ1()"
      ],
      "execution_count": 53,
      "outputs": [
        {
          "output_type": "stream",
          "name": "stdout",
          "text": [
            "Michael Jackson\n"
          ]
        }
      ]
    },
    {
      "cell_type": "markdown",
      "metadata": {
        "id": "875dwkmgOsNG"
      },
      "source": [
        "Create a function <code>con</code> that  concatenates two strings using the addition operation:"
      ]
    },
    {
      "cell_type": "code",
      "metadata": {
        "id": "_kfvN-sXOsNH"
      },
      "source": [
        "# Define the function for combining strings\n",
        "\n",
        "def con(a, b):\n",
        "    return(a + b)"
      ],
      "execution_count": 54,
      "outputs": []
    },
    {
      "cell_type": "code",
      "metadata": {
        "id": "P6pQrl_xOsNJ",
        "colab": {
          "base_uri": "https://localhost:8080/",
          "height": 35
        },
        "outputId": "44727028-4923-4bfd-808e-53769c029b10"
      },
      "source": [
        "# Test on the con() function\n",
        "\n",
        "text_return = con(\"This \", \"is\")\n",
        "text_return\n",
        "\n",
        "# type(text_return)"
      ],
      "execution_count": 59,
      "outputs": [
        {
          "output_type": "execute_result",
          "data": {
            "text/plain": [
              "'This is'"
            ],
            "application/vnd.google.colaboratory.intrinsic+json": {
              "type": "string"
            }
          },
          "metadata": {},
          "execution_count": 59
        }
      ]
    },
    {
      "cell_type": "markdown",
      "metadata": {
        "id": "d4nGFfGYOsNL"
      },
      "source": [
        "<hr/>\n",
        "    <div class=\"alert alert-success alertsuccess\" style=\"margin-top: 20px\">\n",
        "        <h4> [Tip] How do I learn more about the pre-defined functions in Python? </h4>\n",
        "        <p>We will be introducing a variety of pre-defined functions to you as you learn more about Python. There are just too many functions, so there's no way we can teach them all in one sitting. But if you'd like to take a quick peek, here's a short reference card for some of the commonly-used pre-defined functions: <a href=\"https://quickref.me/python\">Reference</a></p>\n",
        "    </div>\n",
        "<hr/>"
      ]
    },
    {
      "cell_type": "markdown",
      "metadata": {
        "id": "ggALJ2HROsNL"
      },
      "source": [
        "<h3 id=\"simple\">Functions Make Things Simple</h3>"
      ]
    },
    {
      "cell_type": "markdown",
      "metadata": {
        "id": "QetpeMiXOsNM"
      },
      "source": [
        "Consider the two lines of code in <b>Block 1</b> and <b>Block 2</b>: the procedure for each block is identical. The only thing that is different is the variable names and values."
      ]
    },
    {
      "cell_type": "markdown",
      "metadata": {
        "id": "qSJnVvmEOsNM"
      },
      "source": [
        "<h4>Block 1:</h4>"
      ]
    },
    {
      "cell_type": "code",
      "metadata": {
        "id": "PqRXKdz3OsNM",
        "colab": {
          "base_uri": "https://localhost:8080/"
        },
        "outputId": "f0b4faab-7984-4908-ff9b-ec50e0977e20"
      },
      "source": [
        "# a and b calculation block1\n",
        "\n",
        "a1 = 4\n",
        "b1 = 5\n",
        "c1 = a1 + b1 + 2 * a1 * b1 - 1\n",
        "if(c1 < 0):\n",
        "    c1 = 0\n",
        "else:\n",
        "    c1 = 5\n",
        "c1"
      ],
      "execution_count": 60,
      "outputs": [
        {
          "output_type": "execute_result",
          "data": {
            "text/plain": [
              "5"
            ]
          },
          "metadata": {},
          "execution_count": 60
        }
      ]
    },
    {
      "cell_type": "markdown",
      "metadata": {
        "id": "ApgRvsJzOsNP"
      },
      "source": [
        "<h4>Block 2:</h4>"
      ]
    },
    {
      "cell_type": "code",
      "metadata": {
        "id": "e0pJGs8POsNQ",
        "colab": {
          "base_uri": "https://localhost:8080/"
        },
        "outputId": "6c87276c-e8e0-41e9-fff3-32ac6d8a7fb6"
      },
      "source": [
        "# a and b calculation block2\n",
        "\n",
        "a2 = 0\n",
        "b2 = 0\n",
        "c2 = a2 + b2 + 2 * a2 * b2 - 1\n",
        "if(c2 < 0):\n",
        "    c2 = 0\n",
        "else:\n",
        "    c2 = 5\n",
        "c2"
      ],
      "execution_count": 61,
      "outputs": [
        {
          "output_type": "execute_result",
          "data": {
            "text/plain": [
              "0"
            ]
          },
          "metadata": {},
          "execution_count": 61
        }
      ]
    },
    {
      "cell_type": "markdown",
      "metadata": {
        "id": "3bh1WeoJOsNU"
      },
      "source": [
        "We can replace the lines of code with a function. A function combines many instructions into a single line of code. Once a function is defined, it can be used repeatedly. You can invoke the same function many times in your program. You can save your function and use it in another program or use someone else’s function. The lines of code in code <b>Block 1</b> and code <b>Block 2</b> can be replaced by the following function:  "
      ]
    },
    {
      "cell_type": "code",
      "metadata": {
        "id": "cSrARH5yOsNV"
      },
      "source": [
        "# Make a Function for the calculation above\n",
        "\n",
        "def Equation(a,b):\n",
        "    c = a + b + 2 * a * b - 1\n",
        "    if(c < 0):\n",
        "        c = 0\n",
        "    else:\n",
        "        c = 5\n",
        "    return(c)"
      ],
      "execution_count": 62,
      "outputs": []
    },
    {
      "cell_type": "code",
      "source": [
        "Equation(4,5)\n",
        "Equation(0,0)"
      ],
      "metadata": {
        "colab": {
          "base_uri": "https://localhost:8080/"
        },
        "id": "xAoX3Wt2vTTm",
        "outputId": "0f2f498d-3ab5-441d-bcf6-8d6a3ff1cd9b"
      },
      "execution_count": 65,
      "outputs": [
        {
          "output_type": "execute_result",
          "data": {
            "text/plain": [
              "0"
            ]
          },
          "metadata": {},
          "execution_count": 65
        }
      ]
    },
    {
      "cell_type": "markdown",
      "metadata": {
        "id": "b-m6oOptOsNX"
      },
      "source": [
        "This function takes two inputs, a and b, then applies several operations to return c.\n",
        "We simply define the function, replace the instructions with the function, and input the new values of <code>a1</code>, <code>b1</code> and <code>a2</code>, <code>b2</code> as inputs. The entire process is demonstrated in the figure:"
      ]
    },
    {
      "cell_type": "markdown",
      "metadata": {
        "id": "K82kW7BkOsNX"
      },
      "source": [
        "<img src=\"https://s3-api.us-geo.objectstorage.softlayer.net/cf-courses-data/CognitiveClass/PY0101EN/Chapter%203/Images/FuncsPros.gif\" width=\"850\" />"
      ]
    },
    {
      "cell_type": "markdown",
      "metadata": {
        "id": "tnn_9_xeOsNX"
      },
      "source": [
        "Code **Blocks 1** and **Block 2** can now be replaced with code **Block 3** and code **Block 4**."
      ]
    },
    {
      "cell_type": "markdown",
      "metadata": {
        "id": "EOg3FEjUOsNY"
      },
      "source": [
        "<h4>Block 3:</h4>"
      ]
    },
    {
      "cell_type": "code",
      "metadata": {
        "id": "26TKa_mrOsNY",
        "colab": {
          "base_uri": "https://localhost:8080/"
        },
        "outputId": "1df54616-c7b2-4c46-eb2e-635ff9e76891"
      },
      "source": [
        "a1 = 4\n",
        "b1 = 5\n",
        "c1 = Equation(a1, b1)\n",
        "c1"
      ],
      "execution_count": 66,
      "outputs": [
        {
          "output_type": "execute_result",
          "data": {
            "text/plain": [
              "5"
            ]
          },
          "metadata": {},
          "execution_count": 66
        }
      ]
    },
    {
      "cell_type": "markdown",
      "metadata": {
        "id": "bX7KlXgNOsNa"
      },
      "source": [
        "<h4>Block 4:</h4>"
      ]
    },
    {
      "cell_type": "code",
      "metadata": {
        "id": "13EjVj0JOsNa",
        "colab": {
          "base_uri": "https://localhost:8080/"
        },
        "outputId": "dbd1b47c-c0e1-4122-9b7c-442161c02bd0"
      },
      "source": [
        "a2 = 0\n",
        "b2 = 0\n",
        "c2 = Equation(a2, b2)\n",
        "c2"
      ],
      "execution_count": 67,
      "outputs": [
        {
          "output_type": "execute_result",
          "data": {
            "text/plain": [
              "0"
            ]
          },
          "metadata": {},
          "execution_count": 67
        }
      ]
    },
    {
      "cell_type": "markdown",
      "metadata": {
        "id": "MUD72d7iOsNc"
      },
      "source": [
        "<hr>"
      ]
    },
    {
      "cell_type": "markdown",
      "metadata": {
        "id": "DjMJZ4H5OsNc"
      },
      "source": [
        "<h2 id=\"pre\">Pre-defined functions</h2>"
      ]
    },
    {
      "cell_type": "markdown",
      "metadata": {
        "id": "XjHKYv3DOsNd"
      },
      "source": [
        "There are many pre-defined functions in Python, so let's start with the simple ones."
      ]
    },
    {
      "cell_type": "markdown",
      "metadata": {
        "id": "POIbKP0iOsNd"
      },
      "source": [
        "\n",
        "\n",
        "The <code>print()</code> function:"
      ]
    },
    {
      "cell_type": "code",
      "metadata": {
        "id": "x7iVP08WOsNe",
        "colab": {
          "base_uri": "https://localhost:8080/"
        },
        "outputId": "e30cb4d8-ee1f-4652-fa3c-117d1058b557"
      },
      "source": [
        "# Build-in function print()\n",
        "\n",
        "album_ratings = [10.0, 8.5, 9.5, 7.0, 7.0, 9.5, 9.0, 9.5]\n",
        "print(album_ratings)"
      ],
      "execution_count": 68,
      "outputs": [
        {
          "output_type": "stream",
          "name": "stdout",
          "text": [
            "[10.0, 8.5, 9.5, 7.0, 7.0, 9.5, 9.0, 9.5]\n"
          ]
        }
      ]
    },
    {
      "cell_type": "markdown",
      "metadata": {
        "id": "fXb-lQ7OOsNg"
      },
      "source": [
        "The <code>sum()</code> function adds all the  elements in a list or tuple:"
      ]
    },
    {
      "cell_type": "code",
      "metadata": {
        "id": "gQ-mEnBUOsNg",
        "colab": {
          "base_uri": "https://localhost:8080/"
        },
        "outputId": "00982b02-b9ac-419c-f7f7-9d1a03e42647"
      },
      "source": [
        "# Use sum() to add every element in a list or tuple together\n",
        "\n",
        "sum(album_ratings)"
      ],
      "execution_count": 69,
      "outputs": [
        {
          "output_type": "execute_result",
          "data": {
            "text/plain": [
              "70.0"
            ]
          },
          "metadata": {},
          "execution_count": 69
        }
      ]
    },
    {
      "cell_type": "markdown",
      "metadata": {
        "id": "1QfaFLMDOsNj"
      },
      "source": [
        "The <code>len()</code> function returns the length of a list or tuple:"
      ]
    },
    {
      "cell_type": "code",
      "metadata": {
        "id": "sG-kvbWvOsNj",
        "colab": {
          "base_uri": "https://localhost:8080/"
        },
        "outputId": "f486323d-95db-46e6-843e-08844ab99c31"
      },
      "source": [
        "# Show the length of the list or tuple\n",
        "\n",
        "len(album_ratings)"
      ],
      "execution_count": 70,
      "outputs": [
        {
          "output_type": "execute_result",
          "data": {
            "text/plain": [
              "8"
            ]
          },
          "metadata": {},
          "execution_count": 70
        }
      ]
    },
    {
      "cell_type": "markdown",
      "metadata": {
        "id": "3fyYOCL2OsNn"
      },
      "source": [
        "<h2 id=\"if\">Using <code>if</code>/<code>else</code> Statements and Loops in Functions</h2>"
      ]
    },
    {
      "cell_type": "markdown",
      "metadata": {
        "id": "lzn9-0HROsNn"
      },
      "source": [
        "The <code>return()</code> function is particularly useful if you have any IF statements in the function, when you want your output to be dependent on some condition:"
      ]
    },
    {
      "cell_type": "code",
      "metadata": {
        "id": "vQW7IFRdOsNn",
        "colab": {
          "base_uri": "https://localhost:8080/"
        },
        "outputId": "56bbb4e2-f1a2-4411-e383-842407ddc3d8"
      },
      "source": [
        "# Function example\n",
        "\n",
        "def type_of_album(artist, album, year_released):\n",
        "\n",
        "    print(artist, album, year_released)\n",
        "    if year_released > 1980:\n",
        "        return \"Modern\"\n",
        "    else:\n",
        "        return \"Oldie\"\n",
        "\n",
        "x = type_of_album(\"Michael Jackson\", \"Thriller\", 1980)\n",
        "print(x)\n",
        "type(x)"
      ],
      "execution_count": 74,
      "outputs": [
        {
          "output_type": "stream",
          "name": "stdout",
          "text": [
            "Michael Jackson Thriller 1980\n",
            "Oldie\n"
          ]
        },
        {
          "output_type": "execute_result",
          "data": {
            "text/plain": [
              "str"
            ]
          },
          "metadata": {},
          "execution_count": 74
        }
      ]
    },
    {
      "cell_type": "markdown",
      "metadata": {
        "id": "U5aSs4aYOsNp"
      },
      "source": [
        "We can use a loop in a function. For example, we can <code>print</code> out each element in a list:"
      ]
    },
    {
      "cell_type": "code",
      "metadata": {
        "id": "QOBcDRuOOsNq"
      },
      "source": [
        "# Print the list using for loop\n",
        "\n",
        "def PrintList(the_list):\n",
        "    for element in the_list:\n",
        "        print(element)"
      ],
      "execution_count": 75,
      "outputs": []
    },
    {
      "cell_type": "code",
      "metadata": {
        "id": "c42afwlQOsNs",
        "colab": {
          "base_uri": "https://localhost:8080/"
        },
        "outputId": "38152feb-712d-4ac7-e7c7-b906549a8833"
      },
      "source": [
        "# Implement the printlist function\n",
        "\n",
        "PrintList(['1', 1, 'the man', \"abc\"])"
      ],
      "execution_count": 76,
      "outputs": [
        {
          "output_type": "stream",
          "name": "stdout",
          "text": [
            "1\n",
            "1\n",
            "the man\n",
            "abc\n"
          ]
        }
      ]
    },
    {
      "cell_type": "markdown",
      "metadata": {
        "id": "7PyGHYWzOsNu"
      },
      "source": [
        "<hr>"
      ]
    },
    {
      "cell_type": "markdown",
      "metadata": {
        "id": "aBwH_3vxOsNv"
      },
      "source": [
        "<h2 id=\"default\">Setting default argument values in your custom functions</h2>"
      ]
    },
    {
      "cell_type": "markdown",
      "metadata": {
        "id": "5kheGgQcOsNv"
      },
      "source": [
        "You can set a default value for arguments in your function. For example, in the <code>isGoodRating()</code> function, what if we wanted to create a threshold for what we consider to be a good rating? Perhaps by default, we should have a default rating of 4:"
      ]
    },
    {
      "cell_type": "code",
      "metadata": {
        "id": "-HQlG3C4OsNv"
      },
      "source": [
        "# Example for setting param with default value\n",
        "\n",
        "def isGoodRating(rating=4):\n",
        "    if(rating < 7):\n",
        "        print(\"this album sucks it's rating is\",rating)\n",
        "\n",
        "    else:\n",
        "        print(\"this album is good its rating is\",rating)\n"
      ],
      "execution_count": 77,
      "outputs": []
    },
    {
      "cell_type": "code",
      "metadata": {
        "id": "iWSb1I0XOsNy",
        "colab": {
          "base_uri": "https://localhost:8080/"
        },
        "outputId": "7d0909a5-6c19-4975-807b-aaf8e6d2b744"
      },
      "source": [
        "# Test the value with default value and with input\n",
        "\n",
        "isGoodRating()\n",
        "isGoodRating(10)"
      ],
      "execution_count": 79,
      "outputs": [
        {
          "output_type": "stream",
          "name": "stdout",
          "text": [
            "this album sucks it's rating is 4\n",
            "this album is good its rating is 10\n"
          ]
        }
      ]
    },
    {
      "cell_type": "markdown",
      "metadata": {
        "id": "S-a42iySOsN1"
      },
      "source": [
        "<hr>"
      ]
    },
    {
      "cell_type": "markdown",
      "metadata": {
        "id": "HugJ5p8sOsN1"
      },
      "source": [
        "<h2 id=\"global\">Global variables</h2>"
      ]
    },
    {
      "cell_type": "markdown",
      "metadata": {
        "id": "bkPh8bF3OsN2"
      },
      "source": [
        "So far, we've been creating variables within functions, but we have not discussed variables outside the function.  These are called global variables.\n",
        "<br>\n",
        "Let's try to see what <code>printer1</code> returns:"
      ]
    },
    {
      "cell_type": "code",
      "metadata": {
        "id": "IR1Nd49HOsN2",
        "colab": {
          "base_uri": "https://localhost:8080/"
        },
        "outputId": "c9c730f8-c716-420b-c1b6-8158fa0aa2c1"
      },
      "source": [
        "# Example of global variable\n",
        "\n",
        "artist = \"Michael Jackson\" #전역변수 = global...\n",
        "def printer1(artist):\n",
        "    internal_var = artist #local variable, 즉 printer1이 끝나면 없어지는 것임\n",
        "    print(artist, \"is an artist\")\n",
        "\n",
        "#printer1(artist, internal_var) #artist는 알아, internal_var 몰라...\n",
        "printer1(artist)"
      ],
      "execution_count": 81,
      "outputs": [
        {
          "output_type": "stream",
          "name": "stdout",
          "text": [
            "Michael Jackson is an artist\n"
          ]
        }
      ]
    },
    {
      "cell_type": "markdown",
      "metadata": {
        "id": "eRnQQX-rOsN4"
      },
      "source": [
        "If we print <code>internal_var</code> we get an error."
      ]
    },
    {
      "cell_type": "markdown",
      "metadata": {
        "id": "lC1kewYDOsN5"
      },
      "source": [
        "<b>We got a Name Error:  <code>name 'internal_var' is not defined</code>. Why?</b>  \n",
        "\n",
        "It's because all the variables we create in the function is a <b>local variable</b>, meaning that the variable assignment does not persist outside the function.  \n",
        "\n",
        "But there is a way to create <b>global variables</b> from within a function as follows:"
      ]
    },
    {
      "cell_type": "code",
      "metadata": {
        "id": "GUqNC4PsOsN5",
        "colab": {
          "base_uri": "https://localhost:8080/"
        },
        "outputId": "7aa4d968-2bf6-46fe-b4a7-d0974058db61"
      },
      "source": [
        "artist = \"Michael Jackson\"\n",
        "\n",
        "def printer(artist):\n",
        "    global internal_var #일부러 internal_var이 전역이라는 것을 알려줄 수도 있다. --> 잘 안씀...\n",
        "    internal_var= \"Whitney Houston\"\n",
        "    print(artist,\"is an artist\")\n",
        "\n",
        "printer(artist)\n",
        "printer(internal_var)"
      ],
      "execution_count": 82,
      "outputs": [
        {
          "output_type": "stream",
          "name": "stdout",
          "text": [
            "Michael Jackson is an artist\n",
            "Whitney Houston is an artist\n"
          ]
        }
      ]
    },
    {
      "cell_type": "markdown",
      "metadata": {
        "id": "4jcmcY-cOsN7"
      },
      "source": [
        "<h2 id=\"scope\">Scope of a Variable</h2>"
      ]
    },
    {
      "cell_type": "markdown",
      "metadata": {
        "id": "PMY4B_SoOsN7"
      },
      "source": [
        " The scope of a variable is the part of that program where that variable is accessible. Variables that are declared outside of all function definitions, such as the <code>myFavouriteBand</code> variable in the code shown here, are accessible from anywhere within the program. As a result, such variables are said to have global scope, and are known as global variables.\n",
        "    <code>myFavouriteBand</code> is a global variable, so it is accessible from within the <code>getBandRating</code> function, and we can use it to determine a band's rating. We can also use it outside of the function, such as when we pass it to the print function to display it:"
      ]
    },
    {
      "cell_type": "code",
      "metadata": {
        "id": "FsSe97q4OsN8",
        "colab": {
          "base_uri": "https://localhost:8080/"
        },
        "outputId": "9941bb4a-1fc5-48d9-d170-ba2044d6a0b0"
      },
      "source": [
        "# Example of global variable\n",
        "\n",
        "myFavouriteBand = \"AC/DC\" #global\n",
        "\n",
        "def getBandRating(bandname):\n",
        "    if bandname == myFavouriteBand:\n",
        "        return 10.0\n",
        "    else:\n",
        "        return 0.0\n",
        "\n",
        "print(\"AC/DC's rating is:\", getBandRating(\"AC/DC\"))\n",
        "print(\"Deep Purple's rating is:\",getBandRating(\"Deep Purple\"))\n",
        "print(\"My favourite band is:\", myFavouriteBand)"
      ],
      "execution_count": 83,
      "outputs": [
        {
          "output_type": "stream",
          "name": "stdout",
          "text": [
            "AC/DC's rating is: 10.0\n",
            "Deep Purple's rating is: 0.0\n",
            "My favourite band is: AC/DC\n"
          ]
        }
      ]
    },
    {
      "cell_type": "markdown",
      "metadata": {
        "id": "m50uWO4UOsN9"
      },
      "source": [
        " Take a look at this modified version of our code. Now the <code>myFavouriteBand</code> variable is defined within the <code>getBandRating</code> function. A variable that is defined within a function is said to be a local variable of that function. That means that it is only accessible from within the function in which it is defined. Our <code>getBandRating</code> function will still work, because <code>myFavouriteBand</code> is still defined within the function. However, we can no longer print <code>myFavouriteBand</code> outside our function, because it is a local variable of our <code>getBandRating</code> function; it is only defined within the <code>getBandRating</code> function:"
      ]
    },
    {
      "cell_type": "code",
      "metadata": {
        "id": "DjEVRC9FOsN-",
        "colab": {
          "base_uri": "https://localhost:8080/",
          "height": 221
        },
        "outputId": "c63772e5-b4e5-4d3d-a71e-133f902c060c"
      },
      "source": [
        "# Example of local variable\n",
        "\n",
        "def getBandRating(bandname):\n",
        "    myFavouriteBand2 = \"AC/DC\" #local variable\n",
        "    if bandname == myFavouriteBand2:\n",
        "        return 10.0\n",
        "    else:\n",
        "        return 0.0\n",
        "\n",
        "print(\"AC/DC's rating is: \", getBandRating(\"AC/DC\"))\n",
        "print(\"Deep Purple's rating is: \", getBandRating(\"Deep Purple\"))\n",
        "print(\"My favourite band is\", myFavouriteBand2)"
      ],
      "execution_count": 86,
      "outputs": [
        {
          "output_type": "stream",
          "name": "stdout",
          "text": [
            "AC/DC's rating is:  10.0\n",
            "Deep Purple's rating is:  0.0\n"
          ]
        },
        {
          "output_type": "error",
          "ename": "NameError",
          "evalue": "name 'myFavouriteBand2' is not defined",
          "traceback": [
            "\u001b[0;31m---------------------------------------------------------------------------\u001b[0m",
            "\u001b[0;31mNameError\u001b[0m                                 Traceback (most recent call last)",
            "\u001b[0;32m<ipython-input-86-f9d0bbad2488>\u001b[0m in \u001b[0;36m<cell line: 0>\u001b[0;34m()\u001b[0m\n\u001b[1;32m     10\u001b[0m \u001b[0mprint\u001b[0m\u001b[0;34m(\u001b[0m\u001b[0;34m\"AC/DC's rating is: \"\u001b[0m\u001b[0;34m,\u001b[0m \u001b[0mgetBandRating\u001b[0m\u001b[0;34m(\u001b[0m\u001b[0;34m\"AC/DC\"\u001b[0m\u001b[0;34m)\u001b[0m\u001b[0;34m)\u001b[0m\u001b[0;34m\u001b[0m\u001b[0;34m\u001b[0m\u001b[0m\n\u001b[1;32m     11\u001b[0m \u001b[0mprint\u001b[0m\u001b[0;34m(\u001b[0m\u001b[0;34m\"Deep Purple's rating is: \"\u001b[0m\u001b[0;34m,\u001b[0m \u001b[0mgetBandRating\u001b[0m\u001b[0;34m(\u001b[0m\u001b[0;34m\"Deep Purple\"\u001b[0m\u001b[0;34m)\u001b[0m\u001b[0;34m)\u001b[0m\u001b[0;34m\u001b[0m\u001b[0;34m\u001b[0m\u001b[0m\n\u001b[0;32m---> 12\u001b[0;31m \u001b[0mprint\u001b[0m\u001b[0;34m(\u001b[0m\u001b[0;34m\"My favourite band is\"\u001b[0m\u001b[0;34m,\u001b[0m \u001b[0mmyFavouriteBand2\u001b[0m\u001b[0;34m)\u001b[0m\u001b[0;34m\u001b[0m\u001b[0;34m\u001b[0m\u001b[0m\n\u001b[0m",
            "\u001b[0;31mNameError\u001b[0m: name 'myFavouriteBand2' is not defined"
          ]
        }
      ]
    },
    {
      "cell_type": "markdown",
      "metadata": {
        "id": "wX2GrfKMOsOA"
      },
      "source": [
        " Finally, take a look at this example. We now have two <code>myFavouriteBand</code> variable definitions. The first one of these has a global scope, and the second of them is a local variable within the <code>getBandRating</code> function. Within the <code>getBandRating</code> function, the local variable takes precedence. **Deep Purple** will receive a rating of 10.0 when passed to the <code>getBandRating</code> function. However, outside of the <code>getBandRating</code> function, the <code>getBandRating</code> s local variable is not defined, so the <code>myFavouriteBand</code> variable we print is the global variable, which has a value of **AC/DC**:"
      ]
    },
    {
      "cell_type": "code",
      "metadata": {
        "id": "GEWCPPfFOsOA",
        "colab": {
          "base_uri": "https://localhost:8080/"
        },
        "outputId": "cc2f99dd-2704-40e7-c608-e130a06bbcbb"
      },
      "source": [
        "# Example of global variable and local variable with the same name\n",
        "\n",
        "myFavouriteBand = \"AC/DC\"\n",
        "\n",
        "def getBandRating(bandname):\n",
        "    myFavouriteBand = \"Deep Purple\"\n",
        "    if bandname == myFavouriteBand:\n",
        "        return 10.0\n",
        "    else:\n",
        "        return 0.0\n",
        "\n",
        "print(\"AC/DC's rating is:\",getBandRating(\"AC/DC\"))\n",
        "print(\"Deep Purple's rating is: \",getBandRating(\"Deep Purple\"))\n",
        "print(\"My favourite band is:\",myFavouriteBand)"
      ],
      "execution_count": 87,
      "outputs": [
        {
          "output_type": "stream",
          "name": "stdout",
          "text": [
            "AC/DC's rating is: 0.0\n",
            "Deep Purple's rating is:  10.0\n",
            "My favourite band is: AC/DC\n"
          ]
        }
      ]
    },
    {
      "cell_type": "markdown",
      "metadata": {
        "id": "Zmu4VyiNOsOE"
      },
      "source": [
        "<h2>Quiz on Functions</h2>"
      ]
    },
    {
      "cell_type": "markdown",
      "metadata": {
        "id": "3WHDrF-AOsOF"
      },
      "source": [
        "Come up with a function that divides the first input by the second input:"
      ]
    },
    {
      "cell_type": "code",
      "metadata": {
        "id": "EhhJRbDgOsOF"
      },
      "source": [
        "# Write your code below and press Shift+Enter to execute\n",
        "\n",
        "def div(a, b):\n",
        "    return(a/b)"
      ],
      "execution_count": 92,
      "outputs": []
    },
    {
      "cell_type": "markdown",
      "metadata": {
        "id": "18NZ6IeUOsOH"
      },
      "source": [
        "Double-click __here__ for the solution.\n",
        "\n",
        "<!--\n",
        "def div(a, b):\n",
        "    return(a/b)\n",
        "-->"
      ]
    },
    {
      "cell_type": "markdown",
      "metadata": {
        "id": "POUcqmyqOsOI"
      },
      "source": [
        "<hr>"
      ]
    },
    {
      "cell_type": "markdown",
      "metadata": {
        "id": "bzZ_DiJFOsOI"
      },
      "source": [
        "Use the function <code>con</code> for the following question."
      ]
    },
    {
      "cell_type": "code",
      "metadata": {
        "id": "BqJ8lgVqOsOI"
      },
      "source": [
        "# Use the con function for the following question\n",
        "\n",
        "def con(a, b):\n",
        "    return(a + b)"
      ],
      "execution_count": null,
      "outputs": []
    },
    {
      "cell_type": "markdown",
      "metadata": {
        "id": "HovbxItzOsOL"
      },
      "source": [
        "Can the <code>con</code> function we defined before be used to add to integers or strings?"
      ]
    },
    {
      "cell_type": "code",
      "metadata": {
        "id": "bbQ3MsrDOsOL",
        "colab": {
          "base_uri": "https://localhost:8080/"
        },
        "outputId": "4431f01b-ff21-4a91-99d1-07f80a038649"
      },
      "source": [
        "# Write your code below and press Shift+Enter to execute\n",
        "\n",
        "con(1, 2)"
      ],
      "execution_count": 100,
      "outputs": [
        {
          "output_type": "execute_result",
          "data": {
            "text/plain": [
              "3"
            ]
          },
          "metadata": {},
          "execution_count": 100
        }
      ]
    },
    {
      "cell_type": "markdown",
      "metadata": {
        "id": "TDrpafr8OsOM"
      },
      "source": [
        "Double-click __here__ for the solution.\n",
        "\n",
        "<!--\n",
        "yes, for example:\n",
        "con(2, 2)\n",
        " -->"
      ]
    },
    {
      "cell_type": "markdown",
      "metadata": {
        "id": "-j-_N7O0OsON"
      },
      "source": [
        "<hr>"
      ]
    },
    {
      "cell_type": "markdown",
      "metadata": {
        "id": "UhudXzCHOsON"
      },
      "source": [
        "Can the <code>con</code> function we defined before be used to concentrate a list or tuple?"
      ]
    },
    {
      "cell_type": "code",
      "metadata": {
        "id": "dhmsJzmLOsOO",
        "colab": {
          "base_uri": "https://localhost:8080/"
        },
        "outputId": "79e3b4bb-0e29-464a-9a5c-2aefa41b3076"
      },
      "source": [
        "# Write your code below and press Shift+Enter to execute\n",
        "\n",
        "con(['a', 'b'], ['c', '1'])"
      ],
      "execution_count": 104,
      "outputs": [
        {
          "output_type": "execute_result",
          "data": {
            "text/plain": [
              "['a', 'b', 'c', '1']"
            ]
          },
          "metadata": {},
          "execution_count": 104
        }
      ]
    },
    {
      "cell_type": "markdown",
      "metadata": {
        "id": "C2TDpsc0OsOR"
      },
      "source": [
        "Double-click __here__ for the solution.\n",
        "\n",
        "<!--\n",
        "yes,for example:\n",
        "con(['a', 1], ['b', 1])\n",
        "-->"
      ]
    },
    {
      "cell_type": "markdown",
      "metadata": {
        "id": "FOTJq_d0OsOR"
      },
      "source": [
        "<hr>\n",
        "<h2>The last exercise!</h2>\n",
        "<p>Congratulations, you have completed your first lesson and hands-on lab in Python. However, there is one more thing you need to do. The Data Science community encourages sharing work. The best way to share and showcase your work is to share it on GitHub. By sharing your notebook on GitHub you are not only building your reputation with fellow data scientists, but you can also show it off when applying for a job. Even though this was your first piece of work, it is never too early to start building good habits. Please submit all your exercises to Github & let the traces in our LMS, so for me to access your work\n",
        "<hr>"
      ]
    },
    {
      "cell_type": "markdown",
      "metadata": {
        "id": "C54u3pyGOsOT"
      },
      "source": [
        "<hr>"
      ]
    },
    {
      "cell_type": "markdown",
      "metadata": {
        "id": "cWnKwYZpOsOV"
      },
      "source": [
        "<p>Copyright &copy; 2023 RYU HOKYOUNG based on 2018 IBM Developer Skills Network. This notebook and its source code are released under the terms of the <a href=\"https://cognitiveclass.ai/mit-license/\">MIT License</a>.</p>"
      ]
    }
  ]
}