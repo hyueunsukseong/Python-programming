{
 "cells": [
  {
   "cell_type": "code",
   "execution_count": null,
   "id": "1b96cd23-e9d4-43be-8211-bcd506c0c168",
   "metadata": {},
   "outputs": [],
   "source": [
    "#강의 교안 p.11 ~  p. 31 까지의 코드를 모두 따라서 코딩하고 실행해보세요.\n",
    "#클래스의 경우, 클래스를 정의하는 부분은 물론 실행하는 부분도 필요합니다."
   ]
  },
  {
   "cell_type": "code",
   "execution_count": 5,
   "id": "cb26025a-e499-47ee-8a5d-829ea42fda28",
   "metadata": {},
   "outputs": [],
   "source": [
    "#Object oriented programming"
   ]
  },
  {
   "cell_type": "code",
   "execution_count": 1,
   "id": "b08bc9e0-e111-487f-b2ea-f415ef3d8f19",
   "metadata": {},
   "outputs": [],
   "source": [
    "#calulator 예제\n",
    "result = 0\n",
    "def adder(num):\n",
    "    global result   #전역변수\n",
    "    result += num\n",
    "    return result"
   ]
  },
  {
   "cell_type": "code",
   "execution_count": 3,
   "id": "8a572b93-9f55-4b78-a43f-32d85799cfb1",
   "metadata": {},
   "outputs": [
    {
     "data": {
      "text/plain": [
       "3"
      ]
     },
     "execution_count": 3,
     "metadata": {},
     "output_type": "execute_result"
    }
   ],
   "source": [
    "adder(3)"
   ]
  },
  {
   "cell_type": "code",
   "execution_count": 5,
   "id": "0fe1a950-866c-4a04-a221-5317d6855ec4",
   "metadata": {},
   "outputs": [
    {
     "data": {
      "text/plain": [
       "7"
      ]
     },
     "execution_count": 5,
     "metadata": {},
     "output_type": "execute_result"
    }
   ],
   "source": [
    "adder(4)"
   ]
  },
  {
   "cell_type": "code",
   "execution_count": 7,
   "id": "2e65b289-5299-4bf9-8678-228d8eaac486",
   "metadata": {},
   "outputs": [
    {
     "data": {
      "text/plain": [
       "12"
      ]
     },
     "execution_count": 7,
     "metadata": {},
     "output_type": "execute_result"
    }
   ],
   "source": [
    "adder(5)"
   ]
  },
  {
   "cell_type": "code",
   "execution_count": 9,
   "id": "68c8216f-bedf-4d3b-83cd-982cd8114e78",
   "metadata": {},
   "outputs": [],
   "source": [
    "result1 = 0\n",
    "result2 = 0"
   ]
  },
  {
   "cell_type": "code",
   "execution_count": 11,
   "id": "0a0a505a-d441-4abb-a4ff-d0d311168c4f",
   "metadata": {},
   "outputs": [],
   "source": [
    "def adder1(num):\n",
    "    global result1\n",
    "    result1 += num\n",
    "    return result1"
   ]
  },
  {
   "cell_type": "code",
   "execution_count": 13,
   "id": "ece95f62-f928-485c-ac12-0ac5bff90bab",
   "metadata": {},
   "outputs": [],
   "source": [
    "def adder2(num):\n",
    "    global result2\n",
    "    result2 += num\n",
    "    return result2"
   ]
  },
  {
   "cell_type": "code",
   "execution_count": 15,
   "id": "62f3a94e-73de-40dc-8f47-f143e1d06ee5",
   "metadata": {},
   "outputs": [
    {
     "data": {
      "text/plain": [
       "3"
      ]
     },
     "execution_count": 15,
     "metadata": {},
     "output_type": "execute_result"
    }
   ],
   "source": [
    "adder1(3)"
   ]
  },
  {
   "cell_type": "code",
   "execution_count": 17,
   "id": "9109c4be-50c2-4872-a0a5-ddb702075caf",
   "metadata": {},
   "outputs": [
    {
     "data": {
      "text/plain": [
       "7"
      ]
     },
     "execution_count": 17,
     "metadata": {},
     "output_type": "execute_result"
    }
   ],
   "source": [
    "adder1(4)"
   ]
  },
  {
   "cell_type": "code",
   "execution_count": 19,
   "id": "68bb2179-2762-4611-b695-4c4aeeca60ee",
   "metadata": {},
   "outputs": [
    {
     "data": {
      "text/plain": [
       "3"
      ]
     },
     "execution_count": 19,
     "metadata": {},
     "output_type": "execute_result"
    }
   ],
   "source": [
    "adder2(3)"
   ]
  },
  {
   "cell_type": "code",
   "execution_count": 21,
   "id": "f9e20fcd-89b5-43d8-b39f-7c765bcc10da",
   "metadata": {},
   "outputs": [
    {
     "data": {
      "text/plain": [
       "10"
      ]
     },
     "execution_count": 21,
     "metadata": {},
     "output_type": "execute_result"
    }
   ],
   "source": [
    "adder2(7)"
   ]
  },
  {
   "cell_type": "code",
   "execution_count": 25,
   "id": "9ab9a040-8124-4133-b918-d4f56a6eda5c",
   "metadata": {},
   "outputs": [],
   "source": [
    "class Calculator:\n",
    "    def __init__(self):\n",
    "        self.result = 0\n",
    "    def adder(self, num):\n",
    "        self.result += num\n",
    "        return self.result"
   ]
  },
  {
   "cell_type": "code",
   "execution_count": 29,
   "id": "f69d1f1a-03a3-4025-90a2-bf78a2a823c7",
   "metadata": {},
   "outputs": [
    {
     "name": "stdout",
     "output_type": "stream",
     "text": [
      "3\n"
     ]
    }
   ],
   "source": [
    "cal1 = Calculator()\n",
    "cal2 = Calculator()\n",
    "\n",
    "print(cal1.adder(3))"
   ]
  },
  {
   "cell_type": "code",
   "execution_count": 31,
   "id": "ba3dfd85-5e20-4be9-9b72-769b03a9e377",
   "metadata": {},
   "outputs": [
    {
     "name": "stdout",
     "output_type": "stream",
     "text": [
      "7\n"
     ]
    }
   ],
   "source": [
    "print(cal1.adder(4))"
   ]
  },
  {
   "cell_type": "code",
   "execution_count": 33,
   "id": "92fba7de-3125-4ac8-91e6-d466b6677f34",
   "metadata": {},
   "outputs": [
    {
     "name": "stdout",
     "output_type": "stream",
     "text": [
      "3\n",
      "10\n"
     ]
    }
   ],
   "source": [
    "print(cal2.adder(3))\n",
    "print(cal2.adder(7))"
   ]
  },
  {
   "cell_type": "code",
   "execution_count": 45,
   "id": "616d048f-9019-4382-9452-c73a6dcef854",
   "metadata": {},
   "outputs": [
    {
     "data": {
      "text/plain": [
       "7"
      ]
     },
     "execution_count": 45,
     "metadata": {},
     "output_type": "execute_result"
    }
   ],
   "source": [
    "cal1.result"
   ]
  },
  {
   "cell_type": "code",
   "execution_count": 39,
   "id": "8a3ee57b-3a0e-483a-8dbd-8e126360a9dc",
   "metadata": {},
   "outputs": [],
   "source": [
    "class Service:\n",
    "    secret = \"지구는 4006년에 멸망한다.\"  #클래스 변수 선언"
   ]
  },
  {
   "cell_type": "code",
   "execution_count": 41,
   "id": "2107b18c-09ae-46c6-b3d8-df6d2a299091",
   "metadata": {},
   "outputs": [],
   "source": [
    "s = Service()"
   ]
  },
  {
   "cell_type": "code",
   "execution_count": 43,
   "id": "6f08bcac-4671-4748-9f61-4b986c10e24e",
   "metadata": {},
   "outputs": [
    {
     "data": {
      "text/plain": [
       "'지구는 4006년에 멸망한다.'"
      ]
     },
     "execution_count": 43,
     "metadata": {},
     "output_type": "execute_result"
    }
   ],
   "source": [
    "s.secret"
   ]
  },
  {
   "cell_type": "code",
   "execution_count": 47,
   "id": "8c68acc1-1014-4263-9243-c6461961803b",
   "metadata": {},
   "outputs": [],
   "source": [
    "s2 = Service()"
   ]
  },
  {
   "cell_type": "code",
   "execution_count": 49,
   "id": "9d99ff2f-b2be-4801-ad9d-6dbda013cb00",
   "metadata": {},
   "outputs": [
    {
     "data": {
      "text/plain": [
       "'지구는 4006년에 멸망한다.'"
      ]
     },
     "execution_count": 49,
     "metadata": {},
     "output_type": "execute_result"
    }
   ],
   "source": [
    "s2.secret"
   ]
  },
  {
   "cell_type": "code",
   "execution_count": 51,
   "id": "642402c1-760a-4a0d-9db6-6c41dc11bbff",
   "metadata": {},
   "outputs": [
    {
     "data": {
      "text/plain": [
       "'지구는 4006년에 멸망한다.'"
      ]
     },
     "execution_count": 51,
     "metadata": {},
     "output_type": "execute_result"
    }
   ],
   "source": [
    "Service.secret"
   ]
  },
  {
   "cell_type": "code",
   "execution_count": 53,
   "id": "676f1615-39b3-461c-bbe3-882e7feda0cc",
   "metadata": {},
   "outputs": [
    {
     "ename": "AttributeError",
     "evalue": "type object 'Calculator' has no attribute 'result'",
     "output_type": "error",
     "traceback": [
      "\u001b[1;31m---------------------------------------------------------------------------\u001b[0m",
      "\u001b[1;31mAttributeError\u001b[0m                            Traceback (most recent call last)",
      "Cell \u001b[1;32mIn[53], line 1\u001b[0m\n\u001b[1;32m----> 1\u001b[0m Calculator\u001b[38;5;241m.\u001b[39mresult\n",
      "\u001b[1;31mAttributeError\u001b[0m: type object 'Calculator' has no attribute 'result'"
     ]
    }
   ],
   "source": [
    "Calculator.result  #안된다"
   ]
  },
  {
   "cell_type": "code",
   "execution_count": 65,
   "id": "8d902b35-0c97-4270-9d45-9ea3a0dd17d9",
   "metadata": {},
   "outputs": [],
   "source": [
    "# method : function in class"
   ]
  },
  {
   "cell_type": "code",
   "execution_count": 67,
   "id": "599ced65-7c07-48b6-b456-6ed40d541f18",
   "metadata": {},
   "outputs": [],
   "source": [
    "class Service:\n",
    "    secret = \"지구는 4006년에 멸망한다.\"\n",
    "    def sum(self, a, b):\n",
    "        result = a+b\n",
    "        print(\"%s + %s = %s이다.\" % (a, b, result))  #formatting "
   ]
  },
  {
   "cell_type": "code",
   "execution_count": 69,
   "id": "8d1d02c6-6f9a-4b05-8601-fe81221cee13",
   "metadata": {},
   "outputs": [],
   "source": [
    "an = Service()"
   ]
  },
  {
   "cell_type": "code",
   "execution_count": 71,
   "id": "0b6988b9-cce4-43b8-8963-283fc2b3adb5",
   "metadata": {},
   "outputs": [
    {
     "name": "stdout",
     "output_type": "stream",
     "text": [
      "1 + 1 = 2이다.\n"
     ]
    }
   ],
   "source": [
    "an.sum(1,1)"
   ]
  },
  {
   "cell_type": "code",
   "execution_count": 89,
   "id": "f487cb11-9fd6-48ff-9cb1-a8dc95ab8370",
   "metadata": {},
   "outputs": [],
   "source": [
    "class Service:\n",
    "    secret = \"지구는 4006년에 멸망한다.\"\n",
    "    def setname(self, name):\n",
    "        self.name = name\n",
    "    def sum(self, a, b):\n",
    "        result = a+b\n",
    "        print(\"%s님, %s + %s = %s입니다.\" % (self.name, a, b, result))"
   ]
  },
  {
   "cell_type": "code",
   "execution_count": 91,
   "id": "dfc6c7ea-dc4b-458b-94ea-5a9970969c74",
   "metadata": {},
   "outputs": [],
   "source": [
    "an = Service()"
   ]
  },
  {
   "cell_type": "code",
   "execution_count": 93,
   "id": "96552797-20ab-45ce-9058-69b075b230d7",
   "metadata": {},
   "outputs": [
    {
     "name": "stdout",
     "output_type": "stream",
     "text": [
      "박달도사님, 1 + 1 = 2입니다.\n"
     ]
    }
   ],
   "source": [
    "an.setname(\"박달도사\")\n",
    "an.sum(1,1)"
   ]
  },
  {
   "cell_type": "code",
   "execution_count": 95,
   "id": "bd2ac0de-48ce-4f5a-b30a-6962dd3f00fe",
   "metadata": {},
   "outputs": [],
   "source": [
    "lee = Service()"
   ]
  },
  {
   "cell_type": "code",
   "execution_count": 99,
   "id": "13cdc225-60cd-41a0-b207-e101f18438f6",
   "metadata": {},
   "outputs": [
    {
     "ename": "AttributeError",
     "evalue": "'Service' object has no attribute 'name'",
     "output_type": "error",
     "traceback": [
      "\u001b[1;31m---------------------------------------------------------------------------\u001b[0m",
      "\u001b[1;31mAttributeError\u001b[0m                            Traceback (most recent call last)",
      "Cell \u001b[1;32mIn[99], line 1\u001b[0m\n\u001b[1;32m----> 1\u001b[0m lee\u001b[38;5;241m.\u001b[39msum(\u001b[38;5;241m2\u001b[39m, \u001b[38;5;241m3\u001b[39m)\n",
      "Cell \u001b[1;32mIn[89], line 7\u001b[0m, in \u001b[0;36mService.sum\u001b[1;34m(self, a, b)\u001b[0m\n\u001b[0;32m      5\u001b[0m \u001b[38;5;28;01mdef\u001b[39;00m \u001b[38;5;21msum\u001b[39m(\u001b[38;5;28mself\u001b[39m, a, b):\n\u001b[0;32m      6\u001b[0m     result \u001b[38;5;241m=\u001b[39m a\u001b[38;5;241m+\u001b[39mb\n\u001b[1;32m----> 7\u001b[0m     \u001b[38;5;28mprint\u001b[39m(\u001b[38;5;124m\"\u001b[39m\u001b[38;5;132;01m%s\u001b[39;00m\u001b[38;5;124m님, \u001b[39m\u001b[38;5;132;01m%s\u001b[39;00m\u001b[38;5;124m + \u001b[39m\u001b[38;5;132;01m%s\u001b[39;00m\u001b[38;5;124m = \u001b[39m\u001b[38;5;132;01m%s\u001b[39;00m\u001b[38;5;124m입니다.\u001b[39m\u001b[38;5;124m\"\u001b[39m \u001b[38;5;241m%\u001b[39m (\u001b[38;5;28mself\u001b[39m\u001b[38;5;241m.\u001b[39mname, a, b, result))\n",
      "\u001b[1;31mAttributeError\u001b[0m: 'Service' object has no attribute 'name'"
     ]
    }
   ],
   "source": [
    "lee.sum(2, 3)   #setname 전에 sum 실행"
   ]
  },
  {
   "cell_type": "code",
   "execution_count": 113,
   "id": "59d60fe7-aa57-4405-989d-23fcaf5508d5",
   "metadata": {},
   "outputs": [],
   "source": [
    "class Service:\n",
    "    secret = \"지구는 4006년에 멸망한다.\"\n",
    "    def __init__(self, name):   #객체 생성할때 호출, 이름을 넣어줘야 함\n",
    "        self.name = name\n",
    "    def sum(self, a, b):\n",
    "        result = a+b\n",
    "        print(\"%s님, %s + %s = %s입니다.\" % (self.name, a, b, result))"
   ]
  },
  {
   "cell_type": "code",
   "execution_count": 115,
   "id": "95751edf-7903-4206-831b-f2df78ebfee1",
   "metadata": {},
   "outputs": [],
   "source": [
    "lee = Service(\"이샐리\")"
   ]
  },
  {
   "cell_type": "code",
   "execution_count": 117,
   "id": "eee397df-d93d-41a9-b929-c87858a02e9d",
   "metadata": {},
   "outputs": [
    {
     "name": "stdout",
     "output_type": "stream",
     "text": [
      "이샐리님, 2 + 3 = 5입니다.\n"
     ]
    }
   ],
   "source": [
    "lee.sum(2,3)"
   ]
  },
  {
   "cell_type": "code",
   "execution_count": 121,
   "id": "49581a06-1801-44d8-9a79-14d253bcd05f",
   "metadata": {},
   "outputs": [],
   "source": [
    "class FourCal:\n",
    "    pass   #아무것도 안하는 껍데기 클래스"
   ]
  },
  {
   "cell_type": "code",
   "execution_count": 123,
   "id": "a1cf6415-5005-4339-93b6-0ece590eb289",
   "metadata": {},
   "outputs": [],
   "source": [
    "a = FourCal()"
   ]
  },
  {
   "cell_type": "code",
   "execution_count": 127,
   "id": "3891ca06-afe3-4494-87d3-af1d40716666",
   "metadata": {},
   "outputs": [
    {
     "name": "stdout",
     "output_type": "stream",
     "text": [
      "<class '__main__.FourCal'>\n"
     ]
    }
   ],
   "source": [
    "print(type(a))"
   ]
  },
  {
   "cell_type": "code",
   "execution_count": 161,
   "id": "25815718-c47d-4c16-badd-af93e949dddf",
   "metadata": {},
   "outputs": [],
   "source": [
    "class FourCal:\n",
    "    def setdata(self, first, second):\n",
    "        self.first = first\n",
    "        self.second = second\n",
    "    def sum(self):\n",
    "        result = self.first + self.second\n",
    "        return result\n",
    "    def mul(self):\n",
    "        result = self.first * self.second\n",
    "        return result\n",
    "    def sub(self):\n",
    "        result = self.first - self.second\n",
    "        return result\n",
    "    def div(self):\n",
    "        result = self.first / self.second\n",
    "        return result"
   ]
  },
  {
   "cell_type": "code",
   "execution_count": 163,
   "id": "32c4589b-7740-412c-ba49-1fb7dd4bf8d4",
   "metadata": {},
   "outputs": [],
   "source": [
    "a = FourCal()"
   ]
  },
  {
   "cell_type": "code",
   "execution_count": 165,
   "id": "e6785987-64fa-4d83-9754-daffbc706c56",
   "metadata": {},
   "outputs": [
    {
     "name": "stdout",
     "output_type": "stream",
     "text": [
      "<class '__main__.FourCal'>\n"
     ]
    }
   ],
   "source": [
    "print(type(a))"
   ]
  },
  {
   "cell_type": "code",
   "execution_count": 167,
   "id": "d5454b4f-0ab9-4feb-8539-0546892e95db",
   "metadata": {},
   "outputs": [],
   "source": [
    "a.setdata(4,2)"
   ]
  },
  {
   "cell_type": "code",
   "execution_count": 169,
   "id": "99ba7a62-244e-405b-8b67-5e3ca6dec42e",
   "metadata": {},
   "outputs": [
    {
     "data": {
      "text/plain": [
       "6"
      ]
     },
     "execution_count": 169,
     "metadata": {},
     "output_type": "execute_result"
    }
   ],
   "source": [
    "a.sum()"
   ]
  },
  {
   "cell_type": "code",
   "execution_count": 171,
   "id": "4961f41d-b85e-4a48-96cf-14d631335287",
   "metadata": {},
   "outputs": [
    {
     "data": {
      "text/plain": [
       "8"
      ]
     },
     "execution_count": 171,
     "metadata": {},
     "output_type": "execute_result"
    }
   ],
   "source": [
    "a.mul()"
   ]
  },
  {
   "cell_type": "code",
   "execution_count": 173,
   "id": "c83c8c0d-45e5-4c48-97cc-9f70bc4d716c",
   "metadata": {},
   "outputs": [
    {
     "data": {
      "text/plain": [
       "2"
      ]
     },
     "execution_count": 173,
     "metadata": {},
     "output_type": "execute_result"
    }
   ],
   "source": [
    "a.sub()"
   ]
  },
  {
   "cell_type": "code",
   "execution_count": 175,
   "id": "a86840ec-980d-4c24-8ad5-68658b53cd9e",
   "metadata": {},
   "outputs": [
    {
     "data": {
      "text/plain": [
       "2.0"
      ]
     },
     "execution_count": 175,
     "metadata": {},
     "output_type": "execute_result"
    }
   ],
   "source": [
    "a.div()"
   ]
  },
  {
   "cell_type": "code",
   "execution_count": 197,
   "id": "7de58c7f-f7ba-47e9-913a-6090b7f87661",
   "metadata": {},
   "outputs": [
    {
     "name": "stdout",
     "output_type": "stream",
     "text": [
      "Player 1 rolled[5, 3, 3]\n",
      "Player 2 rolled[2, 6, 3]\n",
      "Draw\n"
     ]
    }
   ],
   "source": [
    "#주사위 게임\n",
    "import random\n",
    "\n",
    "player1_dice = []\n",
    "player2_dice = []\n",
    "\n",
    "for i in range(3):\n",
    "    player1_dice.append(random.randint(1,6))\n",
    "    player2_dice.append(random.randint(1,6))\n",
    "\n",
    "print(\"Player 1 rolled\" + str(player1_dice))\n",
    "print(\"Player 2 rolled\" + str(player2_dice))\n",
    "\n",
    "if sum(player1_dice) == sum(player2_dice):\n",
    "    print(\"Draw\")\n",
    "elif sum(player1_dice) > sum(player2_dice):\n",
    "    print(\"Player 1 wins\")\n",
    "else:\n",
    "    print(\"Player 2 wins\")"
   ]
  },
  {
   "cell_type": "code",
   "execution_count": 207,
   "id": "bd4ca13a-e42c-4a89-8a17-66099baf1edc",
   "metadata": {},
   "outputs": [],
   "source": [
    "from random import randint\n",
    "class Player:\n",
    "    def __init__(self):\n",
    "        self.dice = []\n",
    "        \n",
    "    def roll(self):\n",
    "        self.dice = []\n",
    "        for i in range(3):\n",
    "            self.dice.append(randint(1,6))\n",
    "            \n",
    "    def get_dice(self):\n",
    "        return self.dice"
   ]
  },
  {
   "cell_type": "code",
   "execution_count": 209,
   "id": "e572f320-7f5b-4606-bd22-0e1e592d4472",
   "metadata": {},
   "outputs": [],
   "source": [
    "player1 = Player()\n",
    "player2 = Player()"
   ]
  },
  {
   "cell_type": "code",
   "execution_count": 211,
   "id": "74c5f393-c754-4c62-8410-4a88757f64d0",
   "metadata": {},
   "outputs": [],
   "source": [
    "player1.roll()\n",
    "player2.roll()"
   ]
  },
  {
   "cell_type": "code",
   "execution_count": 217,
   "id": "4900c504-8302-4951-a6db-b8a61072c746",
   "metadata": {},
   "outputs": [
    {
     "name": "stdout",
     "output_type": "stream",
     "text": [
      "Player 1 rolled[1, 5, 1]\n",
      "Player 2 rolled[1, 5, 2]\n",
      "Player 2 wins!\n"
     ]
    }
   ],
   "source": [
    "print(\"Player 1 rolled\" + str(player1.get_dice()))\n",
    "print(\"Player 2 rolled\" + str(player2.get_dice()))\n",
    "\n",
    "if sum(player1.get_dice()) == sum(player2.get_dice()):\n",
    "    print(\"Draw!\")\n",
    "elif sum(player1.get_dice()) > sum(player2.get_dice()):\n",
    "    print(\"Player 1 wins!\")\n",
    "else:\n",
    "    print(\"Player 2 wins!\")"
   ]
  }
 ],
 "metadata": {
  "kernelspec": {
   "display_name": "Python [conda env:base] *",
   "language": "python",
   "name": "conda-base-py"
  },
  "language_info": {
   "codemirror_mode": {
    "name": "ipython",
    "version": 3
   },
   "file_extension": ".py",
   "mimetype": "text/x-python",
   "name": "python",
   "nbconvert_exporter": "python",
   "pygments_lexer": "ipython3",
   "version": "3.12.7"
  }
 },
 "nbformat": 4,
 "nbformat_minor": 5
}
